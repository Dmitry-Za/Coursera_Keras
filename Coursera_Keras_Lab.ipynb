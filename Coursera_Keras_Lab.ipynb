{
 "cells": [
  {
   "cell_type": "markdown",
   "metadata": {},
   "source": [
    "### Let's import the libraries and read the data"
   ]
  },
  {
   "cell_type": "code",
   "execution_count": 1,
   "metadata": {},
   "outputs": [
    {
     "data": {
      "text/html": [
       "<div>\n",
       "<style scoped>\n",
       "    .dataframe tbody tr th:only-of-type {\n",
       "        vertical-align: middle;\n",
       "    }\n",
       "\n",
       "    .dataframe tbody tr th {\n",
       "        vertical-align: top;\n",
       "    }\n",
       "\n",
       "    .dataframe thead th {\n",
       "        text-align: right;\n",
       "    }\n",
       "</style>\n",
       "<table border=\"1\" class=\"dataframe\">\n",
       "  <thead>\n",
       "    <tr style=\"text-align: right;\">\n",
       "      <th></th>\n",
       "      <th>Cement</th>\n",
       "      <th>Blast Furnace Slag</th>\n",
       "      <th>Fly Ash</th>\n",
       "      <th>Water</th>\n",
       "      <th>Superplasticizer</th>\n",
       "      <th>Coarse Aggregate</th>\n",
       "      <th>Fine Aggregate</th>\n",
       "      <th>Age</th>\n",
       "      <th>Strength</th>\n",
       "    </tr>\n",
       "  </thead>\n",
       "  <tbody>\n",
       "    <tr>\n",
       "      <th>0</th>\n",
       "      <td>540.0</td>\n",
       "      <td>0.0</td>\n",
       "      <td>0.0</td>\n",
       "      <td>162.0</td>\n",
       "      <td>2.5</td>\n",
       "      <td>1040.0</td>\n",
       "      <td>676.0</td>\n",
       "      <td>28</td>\n",
       "      <td>79.99</td>\n",
       "    </tr>\n",
       "    <tr>\n",
       "      <th>1</th>\n",
       "      <td>540.0</td>\n",
       "      <td>0.0</td>\n",
       "      <td>0.0</td>\n",
       "      <td>162.0</td>\n",
       "      <td>2.5</td>\n",
       "      <td>1055.0</td>\n",
       "      <td>676.0</td>\n",
       "      <td>28</td>\n",
       "      <td>61.89</td>\n",
       "    </tr>\n",
       "    <tr>\n",
       "      <th>2</th>\n",
       "      <td>332.5</td>\n",
       "      <td>142.5</td>\n",
       "      <td>0.0</td>\n",
       "      <td>228.0</td>\n",
       "      <td>0.0</td>\n",
       "      <td>932.0</td>\n",
       "      <td>594.0</td>\n",
       "      <td>270</td>\n",
       "      <td>40.27</td>\n",
       "    </tr>\n",
       "    <tr>\n",
       "      <th>3</th>\n",
       "      <td>332.5</td>\n",
       "      <td>142.5</td>\n",
       "      <td>0.0</td>\n",
       "      <td>228.0</td>\n",
       "      <td>0.0</td>\n",
       "      <td>932.0</td>\n",
       "      <td>594.0</td>\n",
       "      <td>365</td>\n",
       "      <td>41.05</td>\n",
       "    </tr>\n",
       "    <tr>\n",
       "      <th>4</th>\n",
       "      <td>198.6</td>\n",
       "      <td>132.4</td>\n",
       "      <td>0.0</td>\n",
       "      <td>192.0</td>\n",
       "      <td>0.0</td>\n",
       "      <td>978.4</td>\n",
       "      <td>825.5</td>\n",
       "      <td>360</td>\n",
       "      <td>44.30</td>\n",
       "    </tr>\n",
       "  </tbody>\n",
       "</table>\n",
       "</div>"
      ],
      "text/plain": [
       "   Cement  Blast Furnace Slag  Fly Ash  Water  Superplasticizer  \\\n",
       "0   540.0                 0.0      0.0  162.0               2.5   \n",
       "1   540.0                 0.0      0.0  162.0               2.5   \n",
       "2   332.5               142.5      0.0  228.0               0.0   \n",
       "3   332.5               142.5      0.0  228.0               0.0   \n",
       "4   198.6               132.4      0.0  192.0               0.0   \n",
       "\n",
       "   Coarse Aggregate  Fine Aggregate  Age  Strength  \n",
       "0            1040.0           676.0   28     79.99  \n",
       "1            1055.0           676.0   28     61.89  \n",
       "2             932.0           594.0  270     40.27  \n",
       "3             932.0           594.0  365     41.05  \n",
       "4             978.4           825.5  360     44.30  "
      ]
     },
     "execution_count": 1,
     "metadata": {},
     "output_type": "execute_result"
    }
   ],
   "source": [
    "import pandas as pd\n",
    "import numpy as np\n",
    "import sklearn\n",
    "import statistics\n",
    "concrete_data = pd.read_csv('https://cocl.us/concrete_data')\n",
    "concrete_data.head()"
   ]
  },
  {
   "cell_type": "markdown",
   "metadata": {},
   "source": [
    "# Part 1 +++++++++++++++++++++++++++++++++++++++++++++++++++++++++++++++++++++++++++++++++++++++++"
   ]
  },
  {
   "cell_type": "markdown",
   "metadata": {},
   "source": [
    "### Let's split the data into predictors and target"
   ]
  },
  {
   "cell_type": "code",
   "execution_count": 2,
   "metadata": {},
   "outputs": [],
   "source": [
    "concrete_data_columns = concrete_data.columns\n",
    "\n",
    "predictors = concrete_data[concrete_data_columns[concrete_data_columns != 'Strength']] # all columns except Strength\n",
    "target = concrete_data['Strength'] # Strength column"
   ]
  },
  {
   "cell_type": "markdown",
   "metadata": {},
   "source": [
    "### Let's save the number of predictors"
   ]
  },
  {
   "cell_type": "code",
   "execution_count": 3,
   "metadata": {},
   "outputs": [],
   "source": [
    "n_cols = predictors.shape[1] # number of predictors"
   ]
  },
  {
   "cell_type": "markdown",
   "metadata": {},
   "source": [
    "### Let's import Keras"
   ]
  },
  {
   "cell_type": "code",
   "execution_count": 4,
   "metadata": {},
   "outputs": [
    {
     "name": "stderr",
     "output_type": "stream",
     "text": [
      "Using TensorFlow backend.\n",
      "/home/jupyterlab/conda/envs/python/lib/python3.6/site-packages/tensorflow/python/framework/dtypes.py:519: FutureWarning: Passing (type, 1) or '1type' as a synonym of type is deprecated; in a future version of numpy, it will be understood as (type, (1,)) / '(1,)type'.\n",
      "  _np_qint8 = np.dtype([(\"qint8\", np.int8, 1)])\n",
      "/home/jupyterlab/conda/envs/python/lib/python3.6/site-packages/tensorflow/python/framework/dtypes.py:520: FutureWarning: Passing (type, 1) or '1type' as a synonym of type is deprecated; in a future version of numpy, it will be understood as (type, (1,)) / '(1,)type'.\n",
      "  _np_quint8 = np.dtype([(\"quint8\", np.uint8, 1)])\n",
      "/home/jupyterlab/conda/envs/python/lib/python3.6/site-packages/tensorflow/python/framework/dtypes.py:521: FutureWarning: Passing (type, 1) or '1type' as a synonym of type is deprecated; in a future version of numpy, it will be understood as (type, (1,)) / '(1,)type'.\n",
      "  _np_qint16 = np.dtype([(\"qint16\", np.int16, 1)])\n",
      "/home/jupyterlab/conda/envs/python/lib/python3.6/site-packages/tensorflow/python/framework/dtypes.py:522: FutureWarning: Passing (type, 1) or '1type' as a synonym of type is deprecated; in a future version of numpy, it will be understood as (type, (1,)) / '(1,)type'.\n",
      "  _np_quint16 = np.dtype([(\"quint16\", np.uint16, 1)])\n",
      "/home/jupyterlab/conda/envs/python/lib/python3.6/site-packages/tensorflow/python/framework/dtypes.py:523: FutureWarning: Passing (type, 1) or '1type' as a synonym of type is deprecated; in a future version of numpy, it will be understood as (type, (1,)) / '(1,)type'.\n",
      "  _np_qint32 = np.dtype([(\"qint32\", np.int32, 1)])\n",
      "/home/jupyterlab/conda/envs/python/lib/python3.6/site-packages/tensorflow/python/framework/dtypes.py:528: FutureWarning: Passing (type, 1) or '1type' as a synonym of type is deprecated; in a future version of numpy, it will be understood as (type, (1,)) / '(1,)type'.\n",
      "  np_resource = np.dtype([(\"resource\", np.ubyte, 1)])\n"
     ]
    }
   ],
   "source": [
    "import keras"
   ]
  },
  {
   "cell_type": "markdown",
   "metadata": {},
   "source": [
    "### Let's import Keras packages"
   ]
  },
  {
   "cell_type": "code",
   "execution_count": 5,
   "metadata": {},
   "outputs": [],
   "source": [
    "from keras.models import Sequential\n",
    "from keras.layers import Dense"
   ]
  },
  {
   "cell_type": "markdown",
   "metadata": {},
   "source": [
    "### Let's define a function that builds a regression model\n",
    "##### Remember that we need  one hidden layer of 10 nodes, a ReLU activation function, \n",
    "##### adam optimizer and the mean squared error as the loss function."
   ]
  },
  {
   "cell_type": "code",
   "execution_count": 6,
   "metadata": {},
   "outputs": [],
   "source": [
    "# define regression model\n",
    "def regression_model():\n",
    "    # create model\n",
    "    model = Sequential()\n",
    "    model.add(Dense(10, activation='relu', input_shape=(n_cols,)))\n",
    "    model.add(Dense(1))\n",
    "    \n",
    "    # compile model\n",
    "    model.compile(optimizer='adam', loss='mean_squared_error')\n",
    "    return model"
   ]
  },
  {
   "cell_type": "markdown",
   "metadata": {},
   "source": [
    "### Let's split the data into training and testion subsets (30% testing)"
   ]
  },
  {
   "cell_type": "code",
   "execution_count": 7,
   "metadata": {},
   "outputs": [
    {
     "data": {
      "text/plain": [
       "(721, 8)"
      ]
     },
     "execution_count": 7,
     "metadata": {},
     "output_type": "execute_result"
    }
   ],
   "source": [
    "from sklearn.model_selection import train_test_split\n",
    "pred_train, pred_test, targ_train, targ_test = train_test_split(predictors, target, test_size = 0.3, random_state = 4)\n",
    "pred_train.shape"
   ]
  },
  {
   "cell_type": "markdown",
   "metadata": {},
   "source": [
    "### Let's call the function to create our model"
   ]
  },
  {
   "cell_type": "code",
   "execution_count": 8,
   "metadata": {},
   "outputs": [],
   "source": [
    "# build the model\n",
    "model = regression_model()"
   ]
  },
  {
   "cell_type": "markdown",
   "metadata": {},
   "source": [
    "### Let's fit the model on the training data set, 50 epochs"
   ]
  },
  {
   "cell_type": "code",
   "execution_count": 9,
   "metadata": {},
   "outputs": [
    {
     "name": "stdout",
     "output_type": "stream",
     "text": [
      "Epoch 1/50\n",
      " - 1s - loss: 3860.4196\n",
      "Epoch 2/50\n",
      " - 0s - loss: 2890.7205\n",
      "Epoch 3/50\n",
      " - 0s - loss: 2157.5431\n",
      "Epoch 4/50\n",
      " - 0s - loss: 1617.4178\n",
      "Epoch 5/50\n",
      " - 0s - loss: 1182.0780\n",
      "Epoch 6/50\n",
      " - 0s - loss: 907.0823\n",
      "Epoch 7/50\n",
      " - 0s - loss: 752.5751\n",
      "Epoch 8/50\n",
      " - 0s - loss: 640.9868\n",
      "Epoch 9/50\n",
      " - 0s - loss: 543.1246\n",
      "Epoch 10/50\n",
      " - 0s - loss: 469.2640\n",
      "Epoch 11/50\n",
      " - 0s - loss: 404.5161\n",
      "Epoch 12/50\n",
      " - 0s - loss: 354.1111\n",
      "Epoch 13/50\n",
      " - 0s - loss: 314.2210\n",
      "Epoch 14/50\n",
      " - 0s - loss: 280.1753\n",
      "Epoch 15/50\n",
      " - 0s - loss: 255.0413\n",
      "Epoch 16/50\n",
      " - 0s - loss: 231.1355\n",
      "Epoch 17/50\n",
      " - 0s - loss: 211.7241\n",
      "Epoch 18/50\n",
      " - 0s - loss: 198.8608\n",
      "Epoch 19/50\n",
      " - 0s - loss: 185.7828\n",
      "Epoch 20/50\n",
      " - 0s - loss: 178.5138\n",
      "Epoch 21/50\n",
      " - 0s - loss: 168.1383\n",
      "Epoch 22/50\n",
      " - 0s - loss: 163.2293\n",
      "Epoch 23/50\n",
      " - 0s - loss: 156.8669\n",
      "Epoch 24/50\n",
      " - 0s - loss: 153.5252\n",
      "Epoch 25/50\n",
      " - 0s - loss: 147.3157\n",
      "Epoch 26/50\n",
      " - 0s - loss: 144.7265\n",
      "Epoch 27/50\n",
      " - 0s - loss: 141.6269\n",
      "Epoch 28/50\n",
      " - 0s - loss: 139.4171\n",
      "Epoch 29/50\n",
      " - 0s - loss: 139.0333\n",
      "Epoch 30/50\n",
      " - 0s - loss: 136.4895\n",
      "Epoch 31/50\n",
      " - 0s - loss: 134.2079\n",
      "Epoch 32/50\n",
      " - 0s - loss: 135.1284\n",
      "Epoch 33/50\n",
      " - 0s - loss: 133.0383\n",
      "Epoch 34/50\n",
      " - 0s - loss: 131.4229\n",
      "Epoch 35/50\n",
      " - 0s - loss: 128.8414\n",
      "Epoch 36/50\n",
      " - 0s - loss: 127.4281\n",
      "Epoch 37/50\n",
      " - 0s - loss: 126.1073\n",
      "Epoch 38/50\n",
      " - 0s - loss: 125.0499\n",
      "Epoch 39/50\n",
      " - 0s - loss: 125.9542\n",
      "Epoch 40/50\n",
      " - 0s - loss: 124.5251\n",
      "Epoch 41/50\n",
      " - 0s - loss: 124.2528\n",
      "Epoch 42/50\n",
      " - 0s - loss: 122.8089\n",
      "Epoch 43/50\n",
      " - 0s - loss: 121.5155\n",
      "Epoch 44/50\n",
      " - 0s - loss: 122.8960\n",
      "Epoch 45/50\n",
      " - 0s - loss: 121.6484\n",
      "Epoch 46/50\n",
      " - 0s - loss: 120.0140\n",
      "Epoch 47/50\n",
      " - 0s - loss: 118.9755\n",
      "Epoch 48/50\n",
      " - 0s - loss: 120.1586\n",
      "Epoch 49/50\n",
      " - 0s - loss: 119.1344\n",
      "Epoch 50/50\n",
      " - 0s - loss: 120.4786\n"
     ]
    },
    {
     "data": {
      "text/plain": [
       "<keras.callbacks.History at 0x7f5f3118c6d8>"
      ]
     },
     "execution_count": 9,
     "metadata": {},
     "output_type": "execute_result"
    }
   ],
   "source": [
    "model.fit(pred_train, targ_train, epochs=50, verbose=2)"
   ]
  },
  {
   "cell_type": "markdown",
   "metadata": {},
   "source": [
    "### Let's run the model in prediction mode on the Test data set"
   ]
  },
  {
   "cell_type": "code",
   "execution_count": 10,
   "metadata": {},
   "outputs": [
    {
     "data": {
      "text/plain": [
       "array([[41.18492 ],\n",
       "       [43.007774],\n",
       "       [36.6962  ],\n",
       "       [37.232044],\n",
       "       [53.30358 ],\n",
       "       [39.31801 ],\n",
       "       [35.27453 ],\n",
       "       [18.147827],\n",
       "       [44.918774],\n",
       "       [27.342407]], dtype=float32)"
      ]
     },
     "execution_count": 10,
     "metadata": {},
     "output_type": "execute_result"
    }
   ],
   "source": [
    "targ_hat=model.predict(pred_test, verbose=2)\n",
    "targ_hat[0:10]"
   ]
  },
  {
   "cell_type": "code",
   "execution_count": 11,
   "metadata": {},
   "outputs": [
    {
     "data": {
      "text/plain": [
       "135.85865916717225"
      ]
     },
     "execution_count": 11,
     "metadata": {},
     "output_type": "execute_result"
    }
   ],
   "source": [
    "\n",
    "metrics_mse=sklearn.metrics.mean_squared_error(targ_test, targ_hat)\n",
    "metrics_mse"
   ]
  },
  {
   "cell_type": "markdown",
   "metadata": {},
   "source": [
    "### Now let us repeat the above steps 50 times and create a list of MSEs. First initialize the list we will fill in later"
   ]
  },
  {
   "cell_type": "code",
   "execution_count": 12,
   "metadata": {},
   "outputs": [],
   "source": [
    "mse_list=[0.0 for i in range(50)]\n"
   ]
  },
  {
   "cell_type": "markdown",
   "metadata": {},
   "source": [
    "### Then repeat the above steps 50 times, adding the result to the list each time"
   ]
  },
  {
   "cell_type": "code",
   "execution_count": 13,
   "metadata": {},
   "outputs": [],
   "source": [
    "for i in range(50):\n",
    "    model = regression_model()\n",
    "    pred_train, pred_test, targ_train, targ_test = train_test_split(predictors, target, test_size = 0.3, random_state = i+2)\n",
    "    model.fit(pred_train, targ_train, epochs=50, verbose=0)\n",
    "    targ_hat=model.predict(pred_test, verbose=0)\n",
    "    metrics_mse=sklearn.metrics.mean_squared_error(targ_test, targ_hat)\n",
    "    mse_list[i]=metrics_mse\n",
    "    #print(i)\n",
    "    #print(mse_list[i])\n",
    "    \n"
   ]
  },
  {
   "cell_type": "code",
   "execution_count": 14,
   "metadata": {},
   "outputs": [
    {
     "name": "stdout",
     "output_type": "stream",
     "text": [
      "[142.11508951578438, 124.18249941586379, 212.58072541843262, 137.49592764216473, 135.78175079835816, 559.6369710081877, 162.39950306220257, 415.40866973691476, 2219.0528686923703, 194.3571440441421, 113.89721504046102, 123.1020488072272, 292.1685286504986, 128.6702562570447, 315.8418744790115, 127.20756617995433, 147.65493468902082, 163.31138018926612, 116.52299268452698, 427.2987270423288, 637.900109210076, 331.04499246436717, 1024.2444000962275, 100.2387941313402, 330.8591301810781, 119.81057360357923, 97.24173249974747, 302.28082391046865, 228.98396279787585, 334.0730061030319, 93.76828731800798, 132.92305570452996, 107.561809429152, 221.22912590165245, 155.21420343607994, 218.38190154250495, 339.0559540834369, 237.5065212650461, 1559.5194710064009, 161.8407334219159, 108.88236759187531, 397.8310592758982, 132.27187149769995, 458.30761630983596, 202.03217778267688, 234.32975277431285, 261.7413636623265, 356.4935777780984, 102.409735592186, 157.7340231575532]\n"
     ]
    }
   ],
   "source": [
    "print(mse_list)"
   ]
  },
  {
   "cell_type": "code",
   "execution_count": 15,
   "metadata": {},
   "outputs": [
    {
     "data": {
      "text/plain": [
       "308.0879761376549"
      ]
     },
     "execution_count": 15,
     "metadata": {},
     "output_type": "execute_result"
    }
   ],
   "source": [
    "\n",
    "mean=statistics.mean(mse_list)\n",
    "mean"
   ]
  },
  {
   "cell_type": "code",
   "execution_count": 16,
   "metadata": {},
   "outputs": [
    {
     "data": {
      "text/plain": [
       "372.9106829710456"
      ]
     },
     "execution_count": 16,
     "metadata": {},
     "output_type": "execute_result"
    }
   ],
   "source": [
    "st_dev=statistics.stdev(mse_list)\n",
    "st_dev"
   ]
  },
  {
   "cell_type": "markdown",
   "metadata": {},
   "source": [
    "# Part 2 +++++++++++++++++++++++++++++++++++++++++++++++++++++++++"
   ]
  },
  {
   "cell_type": "markdown",
   "metadata": {},
   "source": [
    "### Now we normalize the data"
   ]
  },
  {
   "cell_type": "code",
   "execution_count": 17,
   "metadata": {},
   "outputs": [
    {
     "data": {
      "text/html": [
       "<div>\n",
       "<style scoped>\n",
       "    .dataframe tbody tr th:only-of-type {\n",
       "        vertical-align: middle;\n",
       "    }\n",
       "\n",
       "    .dataframe tbody tr th {\n",
       "        vertical-align: top;\n",
       "    }\n",
       "\n",
       "    .dataframe thead th {\n",
       "        text-align: right;\n",
       "    }\n",
       "</style>\n",
       "<table border=\"1\" class=\"dataframe\">\n",
       "  <thead>\n",
       "    <tr style=\"text-align: right;\">\n",
       "      <th></th>\n",
       "      <th>Cement</th>\n",
       "      <th>Blast Furnace Slag</th>\n",
       "      <th>Fly Ash</th>\n",
       "      <th>Water</th>\n",
       "      <th>Superplasticizer</th>\n",
       "      <th>Coarse Aggregate</th>\n",
       "      <th>Fine Aggregate</th>\n",
       "      <th>Age</th>\n",
       "    </tr>\n",
       "  </thead>\n",
       "  <tbody>\n",
       "    <tr>\n",
       "      <th>0</th>\n",
       "      <td>2.476712</td>\n",
       "      <td>-0.856472</td>\n",
       "      <td>-0.846733</td>\n",
       "      <td>-0.916319</td>\n",
       "      <td>-0.620147</td>\n",
       "      <td>0.862735</td>\n",
       "      <td>-1.217079</td>\n",
       "      <td>-0.279597</td>\n",
       "    </tr>\n",
       "    <tr>\n",
       "      <th>1</th>\n",
       "      <td>2.476712</td>\n",
       "      <td>-0.856472</td>\n",
       "      <td>-0.846733</td>\n",
       "      <td>-0.916319</td>\n",
       "      <td>-0.620147</td>\n",
       "      <td>1.055651</td>\n",
       "      <td>-1.217079</td>\n",
       "      <td>-0.279597</td>\n",
       "    </tr>\n",
       "    <tr>\n",
       "      <th>2</th>\n",
       "      <td>0.491187</td>\n",
       "      <td>0.795140</td>\n",
       "      <td>-0.846733</td>\n",
       "      <td>2.174405</td>\n",
       "      <td>-1.038638</td>\n",
       "      <td>-0.526262</td>\n",
       "      <td>-2.239829</td>\n",
       "      <td>3.551340</td>\n",
       "    </tr>\n",
       "    <tr>\n",
       "      <th>3</th>\n",
       "      <td>0.491187</td>\n",
       "      <td>0.795140</td>\n",
       "      <td>-0.846733</td>\n",
       "      <td>2.174405</td>\n",
       "      <td>-1.038638</td>\n",
       "      <td>-0.526262</td>\n",
       "      <td>-2.239829</td>\n",
       "      <td>5.055221</td>\n",
       "    </tr>\n",
       "    <tr>\n",
       "      <th>4</th>\n",
       "      <td>-0.790075</td>\n",
       "      <td>0.678079</td>\n",
       "      <td>-0.846733</td>\n",
       "      <td>0.488555</td>\n",
       "      <td>-1.038638</td>\n",
       "      <td>0.070492</td>\n",
       "      <td>0.647569</td>\n",
       "      <td>4.976069</td>\n",
       "    </tr>\n",
       "  </tbody>\n",
       "</table>\n",
       "</div>"
      ],
      "text/plain": [
       "     Cement  Blast Furnace Slag   Fly Ash     Water  Superplasticizer  \\\n",
       "0  2.476712           -0.856472 -0.846733 -0.916319         -0.620147   \n",
       "1  2.476712           -0.856472 -0.846733 -0.916319         -0.620147   \n",
       "2  0.491187            0.795140 -0.846733  2.174405         -1.038638   \n",
       "3  0.491187            0.795140 -0.846733  2.174405         -1.038638   \n",
       "4 -0.790075            0.678079 -0.846733  0.488555         -1.038638   \n",
       "\n",
       "   Coarse Aggregate  Fine Aggregate       Age  \n",
       "0          0.862735       -1.217079 -0.279597  \n",
       "1          1.055651       -1.217079 -0.279597  \n",
       "2         -0.526262       -2.239829  3.551340  \n",
       "3         -0.526262       -2.239829  5.055221  \n",
       "4          0.070492        0.647569  4.976069  "
      ]
     },
     "execution_count": 17,
     "metadata": {},
     "output_type": "execute_result"
    }
   ],
   "source": [
    "predictors_norm = (predictors - predictors.mean()) / predictors.std()\n",
    "predictors_norm.head()"
   ]
  },
  {
   "cell_type": "code",
   "execution_count": null,
   "metadata": {},
   "outputs": [],
   "source": []
  },
  {
   "cell_type": "markdown",
   "metadata": {},
   "source": [
    "### Now let us repeat the above process for normalized data and create a list of MSEs. First initialize the list we will fill in later"
   ]
  },
  {
   "cell_type": "code",
   "execution_count": 18,
   "metadata": {},
   "outputs": [],
   "source": [
    "mse_list_norm=[0.0 for i in range(50)]\n"
   ]
  },
  {
   "cell_type": "markdown",
   "metadata": {},
   "source": [
    "### Then repeat the process 50 times, adding the result to the list each time"
   ]
  },
  {
   "cell_type": "code",
   "execution_count": 19,
   "metadata": {},
   "outputs": [],
   "source": [
    "for i in range(50):\n",
    "    model = regression_model()\n",
    "    pred_train, pred_test, targ_train, targ_test = train_test_split(predictors_norm, target, test_size = 0.3, random_state = i+2)\n",
    "    model.fit(pred_train, targ_train, epochs=50, verbose=0)\n",
    "    targ_hat=model.predict(pred_test, verbose=0)\n",
    "    metrics_mse=sklearn.metrics.mean_squared_error(targ_test, targ_hat)\n",
    "    mse_list_norm[i]=metrics_mse\n",
    "    #print(i)\n",
    "    #print(mse_list_norm[i])\n",
    "    \n"
   ]
  },
  {
   "cell_type": "code",
   "execution_count": null,
   "metadata": {},
   "outputs": [],
   "source": []
  },
  {
   "cell_type": "code",
   "execution_count": 20,
   "metadata": {},
   "outputs": [
    {
     "name": "stdout",
     "output_type": "stream",
     "text": [
      "[479.7200575805238, 459.892639021493, 381.1047211665138, 471.7785029739153, 570.567875162506, 213.82164622268908, 707.6428492408954, 342.3491790648985, 319.19927966886615, 363.90454591439203, 563.2679171295299, 253.24101984557342, 345.009751091744, 270.86836092018393, 267.3683690107112, 451.46430369278096, 259.62674971810833, 389.7789003374538, 246.98915363339967, 284.7683909393748, 248.20537502681773, 316.2709161914985, 327.0905586251084, 316.48210117100325, 270.20523492179194, 384.0038740851939, 508.2899487842702, 327.387095709605, 268.58541926401017, 432.1492051413521, 264.64302805574494, 419.6831784788366, 442.457124972726, 368.4516193459108, 264.8920298976254, 256.732710562147, 330.49223477228844, 393.5994218937225, 450.7051937841841, 322.21035921848795, 252.47969413489943, 264.9620206984224, 451.05363190569443, 436.45035366649387, 343.52994242804084, 283.230987832182, 283.9618194902699, 255.63877564006134, 379.05055824301655, 273.16011436236766]\n"
     ]
    }
   ],
   "source": [
    "print(mse_list_norm)"
   ]
  },
  {
   "cell_type": "code",
   "execution_count": 21,
   "metadata": {},
   "outputs": [
    {
     "data": {
      "text/plain": [
       "355.56837481278654"
      ]
     },
     "execution_count": 21,
     "metadata": {},
     "output_type": "execute_result"
    }
   ],
   "source": [
    "mean_norm=statistics.mean(mse_list_norm)\n",
    "mean_norm"
   ]
  },
  {
   "cell_type": "code",
   "execution_count": 22,
   "metadata": {},
   "outputs": [
    {
     "data": {
      "text/plain": [
       "102.12532836969845"
      ]
     },
     "execution_count": 22,
     "metadata": {},
     "output_type": "execute_result"
    }
   ],
   "source": [
    "st_dev_norm=statistics.stdev(mse_list_norm)\n",
    "st_dev_norm"
   ]
  },
  {
   "cell_type": "markdown",
   "metadata": {},
   "source": [
    "### We can see that although mean error did not change significantly, but the standard deviation dropped strongly after data normalization."
   ]
  },
  {
   "cell_type": "markdown",
   "metadata": {},
   "source": [
    "# Part 3 +++++++++++++++++++++++++++++++++++++++++++++++++++++++++"
   ]
  },
  {
   "cell_type": "markdown",
   "metadata": {},
   "source": [
    "### we already have normalized data predictors_norm"
   ]
  },
  {
   "cell_type": "markdown",
   "metadata": {},
   "source": [
    "### But this time we should use the model with 100 epochs"
   ]
  },
  {
   "cell_type": "markdown",
   "metadata": {},
   "source": [
    "###  First initialize the list we will fill in later"
   ]
  },
  {
   "cell_type": "code",
   "execution_count": 23,
   "metadata": {},
   "outputs": [],
   "source": [
    "mse_list_norm=[0.0 for i in range(50)]\n"
   ]
  },
  {
   "cell_type": "markdown",
   "metadata": {},
   "source": [
    "### Then repeat the process 50 times, adding the result to the list each time,  but this time with 100 epochs"
   ]
  },
  {
   "cell_type": "code",
   "execution_count": 24,
   "metadata": {},
   "outputs": [],
   "source": [
    "for i in range(50):\n",
    "    model = regression_model()\n",
    "    pred_train, pred_test, targ_train, targ_test = train_test_split(predictors_norm, target, test_size = 0.3, random_state = i+2)\n",
    "    model.fit(pred_train, targ_train, epochs=100, verbose=0)\n",
    "    targ_hat=model.predict(pred_test, verbose=0)\n",
    "    metrics_mse=sklearn.metrics.mean_squared_error(targ_test, targ_hat)\n",
    "    mse_list_norm[i]=metrics_mse\n",
    "    #print(i)\n",
    "    #print(mse_list_norm[i])\n",
    "    \n"
   ]
  },
  {
   "cell_type": "code",
   "execution_count": null,
   "metadata": {},
   "outputs": [],
   "source": []
  },
  {
   "cell_type": "code",
   "execution_count": 25,
   "metadata": {},
   "outputs": [
    {
     "name": "stdout",
     "output_type": "stream",
     "text": [
      "[175.03106655963907, 183.16257348122997, 170.59268002085705, 177.35606589733396, 189.75749286411383, 138.797129247723, 162.9743132906959, 170.7022268993792, 139.95142857070434, 147.9770307591885, 169.67928922742797, 207.54372124223835, 171.48538760764455, 171.57615931152804, 127.00449766832172, 152.06286028068885, 132.82766432781267, 170.67438413486173, 140.02888626654038, 176.65317759596937, 146.97032616904852, 186.1482017517597, 135.8349557465367, 155.22262138166988, 177.22509880313666, 164.50904233135685, 179.70564355157782, 161.62614375242552, 192.34379054120814, 151.3724281647938, 137.86150051668733, 148.6702911854205, 174.8971147275301, 171.9225756574098, 155.23570375167068, 158.00852984898393, 158.82608696428355, 179.19633698480044, 164.77127182611767, 187.3897929726328, 143.72349092038496, 158.56624747865007, 162.257171572049, 162.53243436279877, 165.33642510629767, 187.54735215679804, 205.35387321465086, 162.70460752541453, 156.75396616479608, 145.5244544773138]\n"
     ]
    }
   ],
   "source": [
    "print(mse_list_norm)"
   ]
  },
  {
   "cell_type": "code",
   "execution_count": 26,
   "metadata": {},
   "outputs": [
    {
     "data": {
      "text/plain": [
       "164.27751029724206"
      ]
     },
     "execution_count": 26,
     "metadata": {},
     "output_type": "execute_result"
    }
   ],
   "source": [
    "mean_norm=statistics.mean(mse_list_norm)\n",
    "mean_norm"
   ]
  },
  {
   "cell_type": "code",
   "execution_count": 27,
   "metadata": {},
   "outputs": [
    {
     "data": {
      "text/plain": [
       "18.270756837251138"
      ]
     },
     "execution_count": 27,
     "metadata": {},
     "output_type": "execute_result"
    }
   ],
   "source": [
    "st_dev_norm=statistics.stdev(mse_list_norm)\n",
    "st_dev_norm"
   ]
  },
  {
   "cell_type": "markdown",
   "metadata": {},
   "source": [
    "### 100 epochs instead of 50 radically improved both mean error and standard deviation."
   ]
  },
  {
   "cell_type": "raw",
   "metadata": {},
   "source": []
  },
  {
   "cell_type": "markdown",
   "metadata": {},
   "source": [
    "# Part 4 +++++++++++++++++++++++++++++++++++++++++++++++++++++++++"
   ]
  },
  {
   "cell_type": "markdown",
   "metadata": {},
   "source": [
    "### we already have normalized data predictors_norm"
   ]
  },
  {
   "cell_type": "markdown",
   "metadata": {},
   "source": [
    "### But this time we need a new model with 3 hidden layers, so an updated function for it"
   ]
  },
  {
   "cell_type": "code",
   "execution_count": 36,
   "metadata": {},
   "outputs": [],
   "source": [
    "# define regression model\n",
    "def regression_model():\n",
    "    # create model\n",
    "    model = Sequential()\n",
    "    model.add(Dense(10, activation='relu', input_shape=(n_cols,)))\n",
    "    model.add(Dense(10, activation='relu'))\n",
    "    model.add(Dense(10, activation='relu'))\n",
    "    model.add(Dense(1))\n",
    "    \n",
    "    # compile model\n",
    "    model.compile(optimizer='adam', loss='mean_squared_error')\n",
    "    return model"
   ]
  },
  {
   "cell_type": "code",
   "execution_count": 37,
   "metadata": {},
   "outputs": [],
   "source": [
    "# build the model\n",
    "model = regression_model()"
   ]
  },
  {
   "cell_type": "markdown",
   "metadata": {},
   "source": [
    "###  First initialize the list we will fill in later"
   ]
  },
  {
   "cell_type": "code",
   "execution_count": 38,
   "metadata": {},
   "outputs": [],
   "source": [
    "mse_list_norm=[0.0 for i in range(50)]\n"
   ]
  },
  {
   "cell_type": "markdown",
   "metadata": {},
   "source": [
    "### Then repeat the process 50 times, adding the result to the list each time"
   ]
  },
  {
   "cell_type": "code",
   "execution_count": 39,
   "metadata": {},
   "outputs": [],
   "source": [
    "for i in range(50):\n",
    "    model = regression_model()\n",
    "    pred_train, pred_test, targ_train, targ_test = train_test_split(predictors_norm, target, test_size = 0.3, random_state = i+2)\n",
    "    model.fit(pred_train, targ_train, epochs=50, verbose=0)\n",
    "    targ_hat=model.predict(pred_test, verbose=0)\n",
    "    metrics_mse=sklearn.metrics.mean_squared_error(targ_test, targ_hat)\n",
    "    mse_list_norm[i]=metrics_mse\n",
    "    #print(i)\n",
    "    #print(mse_list_norm[i])\n",
    "    \n"
   ]
  },
  {
   "cell_type": "code",
   "execution_count": null,
   "metadata": {},
   "outputs": [],
   "source": []
  },
  {
   "cell_type": "code",
   "execution_count": 40,
   "metadata": {},
   "outputs": [
    {
     "name": "stdout",
     "output_type": "stream",
     "text": [
      "[134.57021364204647, 142.7427046418004, 143.45310258854803, 120.14145429780727, 138.88010235827085, 133.76634887789115, 144.94215586024592, 122.78326336646964, 127.21056358299376, 123.95896028896944, 97.5907414595123, 150.9892378285582, 125.2299977906272, 118.86472886091386, 124.82774777164991, 131.55611444628113, 121.93192302716479, 138.98891999594318, 116.75412105765872, 121.16149221680901, 126.99331288046409, 127.36184250151868, 105.26351261902825, 132.8002406848012, 115.29278100763081, 105.78252706320633, 104.86988483326085, 134.08435219085524, 132.39095678675687, 131.20266349283023, 125.49332543619138, 129.91995226205677, 135.4107625231301, 139.7903200434017, 134.40629096873712, 137.11786398564357, 82.88592277078473, 137.31655352065957, 147.07635780603687, 99.88069323724706, 125.9368577708848, 122.64097846115575, 128.30123467702006, 151.84351256471655, 141.21893967522567, 134.3175647889994, 124.28944403743293, 144.56273157978208, 114.27839256732418, 138.21002638742425]\n"
     ]
    }
   ],
   "source": [
    "print(mse_list_norm)"
   ]
  },
  {
   "cell_type": "code",
   "execution_count": 41,
   "metadata": {},
   "outputs": [
    {
     "data": {
      "text/plain": [
       "127.82567386168736"
      ]
     },
     "execution_count": 41,
     "metadata": {},
     "output_type": "execute_result"
    }
   ],
   "source": [
    "mean_norm=statistics.mean(mse_list_norm)\n",
    "mean_norm"
   ]
  },
  {
   "cell_type": "code",
   "execution_count": 42,
   "metadata": {},
   "outputs": [
    {
     "data": {
      "text/plain": [
       "14.098723755075483"
      ]
     },
     "execution_count": 42,
     "metadata": {},
     "output_type": "execute_result"
    }
   ],
   "source": [
    "st_dev_norm=statistics.stdev(mse_list_norm)\n",
    "st_dev_norm"
   ]
  },
  {
   "cell_type": "markdown",
   "metadata": {},
   "source": [
    "### We can see that additional hidden layers are even more efficient than doubling the number of epochs, although the difference is not significant"
   ]
  },
  {
   "cell_type": "code",
   "execution_count": null,
   "metadata": {},
   "outputs": [],
   "source": []
  }
 ],
 "metadata": {
  "kernelspec": {
   "display_name": "Python",
   "language": "python",
   "name": "conda-env-python-py"
  },
  "language_info": {
   "codemirror_mode": {
    "name": "ipython",
    "version": 3
   },
   "file_extension": ".py",
   "mimetype": "text/x-python",
   "name": "python",
   "nbconvert_exporter": "python",
   "pygments_lexer": "ipython3",
   "version": "3.6.10"
  }
 },
 "nbformat": 4,
 "nbformat_minor": 4
}
